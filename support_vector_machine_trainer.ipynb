{
 "cells": [
  {
   "cell_type": "code",
   "execution_count": 1,
   "id": "cd6f0237-65b4-4c90-9919-3c77f350cc6f",
   "metadata": {},
   "outputs": [],
   "source": [
    "#import preliminaries \n",
    "\n",
    "import pandas as pd\n",
    "import numpy as np\n",
    "import random\n",
    "# import cuml \n",
    "import matplotlib.pyplot as plt\n",
    "from sklearn.experimental import enable_halving_search_cv\n",
    "from sklearn.model_selection import train_test_split, HalvingGridSearchCV\n",
    "from sklearn.svm import SVC #for windows to use on cpu cores \n",
    "#from cuml.svm import SVC\n",
    "from sklearn.preprocessing import StandardScaler, OneHotEncoder\n",
    "from sklearn.compose import ColumnTransformer\n",
    "from sklearn.pipeline import Pipeline\n",
    "from sklearn.metrics import classification_report, roc_auc_score, roc_curve, precision_recall_curve,confusion_matrix, ConfusionMatrixDisplay\n",
    "from imblearn.pipeline import Pipeline as ImbPipeline\n",
    "from imblearn.over_sampling import SMOTE\n",
    "from imblearn.under_sampling import RandomUnderSampler\n"
   ]
  },
  {
   "cell_type": "code",
   "execution_count": 2,
   "id": "5e483fff-f90f-4fb0-bdf9-43445ad5898b",
   "metadata": {},
   "outputs": [],
   "source": [
    "#load csv files \n",
    "\n",
    "train_df = pd.read_csv(r\"C:\\Users\\kbarn\\ubuntu_shared\\fraudTrain.csv\")\n",
    "test_df = pd.read_csv(r\"C:\\Users\\kbarn\\ubuntu_shared\\fraudTest.csv\")\n"
   ]
  },
  {
   "cell_type": "code",
   "execution_count": 3,
   "id": "e0ef80a9-c578-4cfd-b3f4-a6579fde60d3",
   "metadata": {},
   "outputs": [],
   "source": [
    "#preprocess the dataframe, drop cc number and convert transaction time to hours \n",
    "\n",
    "for df in [train_df, test_df]:\n",
    "    df['trans_date_trans_time'] = pd.to_datetime(df['trans_date_trans_time'])\n",
    "    df['hour'] = df['trans_date_trans_time'].dt.hour\n",
    "    df.drop(columns=['trans_date_trans_time', 'cc_num'], inplace=True)\n",
    "    "
   ]
  },
  {
   "cell_type": "code",
   "execution_count": 4,
   "id": "15147c53-5c5e-425a-9773-7ff9a83d884f",
   "metadata": {},
   "outputs": [],
   "source": [
    "# define numerical and categorical data \n",
    "\n",
    "numerical_features = ['amt', 'hour', 'merch_lat', 'merch_long']\n",
    "categorical_features = ['category', 'job']"
   ]
  },
  {
   "cell_type": "code",
   "execution_count": 5,
   "id": "6aad9358-4c8b-4814-984a-e027e751cd72",
   "metadata": {},
   "outputs": [],
   "source": [
    "# normaize numerical data and onehotencode categorical \n",
    "\n",
    "preprocessor = ColumnTransformer([(\"numerical\", StandardScaler(),numerical_features),\n",
    "    (\"categorical\", OneHotEncoder(handle_unknown = \"ignore\"),categorical_features)])"
   ]
  },
  {
   "cell_type": "code",
   "execution_count": 6,
   "id": "2d1be7ca-a3bc-4b50-94cf-ef7f75b9d66c",
   "metadata": {},
   "outputs": [],
   "source": [
    "# build the pipeline with imblearn \n",
    "\n",
    "pipeline = ImbPipeline([\n",
    "    ('preprocessor' , preprocessor),\n",
    "    ('under_sampler' , RandomUnderSampler(sampling_strategy = 0.1, random_state = 42)),\n",
    "    ('over_sampler' , SMOTE(sampling_strategy = 0.5, random_state = 42)),\n",
    "    ('svm' ,  SVC(probability=True, class_weight='balanced',random_state = 42))])"
   ]
  },
  {
   "cell_type": "code",
   "execution_count": 7,
   "id": "2571234d-628b-4e71-87e7-afe11a05a30b",
   "metadata": {},
   "outputs": [],
   "source": [
    "#define training data \n",
    "\n",
    "X_train = train_df.drop(columns = ['is_fraud'])\n",
    "Y_train = train_df['is_fraud']\n",
    "X_test = test_df.drop(columns = [\"is_fraud\"])\n",
    "Y_test = test_df['is_fraud']"
   ]
  },
  {
   "cell_type": "code",
   "execution_count": 8,
   "id": "2748bbd6-b5ec-4dfc-ac64-7dc02120330c",
   "metadata": {},
   "outputs": [],
   "source": [
    "#hyperparameters of the SVM\n",
    "\n",
    "hyper_parameters = { 'svm__C' : [0.3], # possible options for margin \n",
    "                    'svm__kernel' : ['linear'] } # we use a linear kernel for cheap compute \n",
    "\n",
    "                    "
   ]
  },
  {
   "cell_type": "code",
   "execution_count": null,
   "id": "7bbe29c0-e966-4097-8c6e-ab80e134e97b",
   "metadata": {},
   "outputs": [
    {
     "name": "stdout",
     "output_type": "stream",
     "text": [
      "n_iterations: 1\n",
      "n_required_iterations: 1\n",
      "n_possible_iterations: 1\n",
      "min_resources_: 1296675\n",
      "max_resources_: 1296675\n",
      "aggressive_elimination: False\n",
      "factor: 2\n",
      "----------\n",
      "iter: 0\n",
      "n_candidates: 1\n",
      "n_resources: 1296675\n",
      "Fitting 3 folds for each of 1 candidates, totalling 3 fits\n"
     ]
    }
   ],
   "source": [
    "#initializing halving grid search \n",
    "\n",
    "halving_grid_search = HalvingGridSearchCV(\n",
    "    estimator= pipeline,\n",
    "    param_grid = hyper_parameters,\n",
    "    factor=2,\n",
    "    cv=3,\n",
    "    scoring='roc_auc',\n",
    "    n_jobs=-1,\n",
    "    verbose=1)\n",
    "\n",
    "halving_grid_search.fit(X_train, Y_train)\n",
    "optimal_model = halving_grid_search.best_estimator_\n"
   ]
  },
  {
   "cell_type": "code",
   "execution_count": null,
   "id": "ab7fecda-9645-4fb3-8344-1397a589f0b5",
   "metadata": {},
   "outputs": [],
   "source": [
    "# retrieve model predictions \n",
    "\n",
    "y_pred = optimal_model.predict(X_test)\n",
    "y_proba = optimal_model.predict_proba(X_test)[:, 1]"
   ]
  },
  {
   "cell_type": "code",
   "execution_count": null,
   "id": "331bdcaa-3460-445c-8591-149ab4633ab2",
   "metadata": {},
   "outputs": [],
   "source": [
    "#visualizing the data \n",
    "\n",
    "print(classification_report(Y_test, y_pred, digits=6)) # area under the curve (AUC) \n",
    "print(f\"ROC-AUC Score: {roc_auc_score(Y_test, y_proba)}\")\n",
    "\n",
    "confusionmatrix = confusion_matrix(Y_test, (y_proba > 0.5).astype(int)) # confusion matrix \n",
    "disp = ConfusionMatrixDisplay(confusion_matrix=confusionmatrix, display_labels=[\"Not Fraud\", \"Fraud\"])\n",
    "disp.plot(cmap=\"Blues\", values_format=\"d\")\n",
    "plt.show()\n",
    "\n",
    "fpr, tpr, _ = roc_curve(Y_test, y_proba) #ROC and Recall \n",
    "plt.plot(fpr, tpr, label=f\"AUC = {roc_auc_score(Y_test, y_proba):.2f}\")\n",
    "plt.show()\n",
    "\n",
    "precision, recall, _ = precision_recall_curve(Y_test, y_proba)\n",
    "plt.plot(recall, precision)\n",
    "plt.show()\n",
    "\n",
    "false_positive = confusionmatrix[0, 1]  # use confusion matrix as sourc \n",
    "false_negative = confusionmatrix[1, 0]  \n",
    "fn_fp = false_positive / false_negative \n",
    "print (f'ratio of false positives to false negatives {fn_fp}')"
   ]
  },
  {
   "cell_type": "code",
   "execution_count": null,
   "id": "e4c6c2c6-4e85-463f-b2cb-706395914088",
   "metadata": {},
   "outputs": [],
   "source": []
  }
 ],
 "metadata": {
  "kernelspec": {
   "display_name": "Python 3 (ipykernel)",
   "language": "python",
   "name": "python3"
  },
  "language_info": {
   "codemirror_mode": {
    "name": "ipython",
    "version": 3
   },
   "file_extension": ".py",
   "mimetype": "text/x-python",
   "name": "python",
   "nbconvert_exporter": "python",
   "pygments_lexer": "ipython3",
   "version": "3.12.4"
  }
 },
 "nbformat": 4,
 "nbformat_minor": 5
}
